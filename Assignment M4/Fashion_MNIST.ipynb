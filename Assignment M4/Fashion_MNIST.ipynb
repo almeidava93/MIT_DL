{
  "cells": [
    {
      "cell_type": "code",
      "execution_count": 1,
      "metadata": {
        "colab": {
          "base_uri": "https://localhost:8080/"
        },
        "id": "yrzZRul42zJs",
        "outputId": "263cfff3-03e2-438a-845d-a49f26694099"
      },
      "outputs": [
        {
          "data": {
            "text/plain": [
              "device(type='cuda')"
            ]
          },
          "execution_count": 1,
          "metadata": {},
          "output_type": "execute_result"
        }
      ],
      "source": [
        "import torch\n",
        "import torch.nn as nn\n",
        "import numpy as np\n",
        "import torchvision.datasets\n",
        "from torchvision import transforms\n",
        "from torch.utils.data import Subset\n",
        "from torch.utils.data import DataLoader\n",
        "from torch.nn.modules.flatten import Flatten\n",
        "import time, copy\n",
        "import matplotlib.pyplot as plt\n",
        "import sklearn.metrics as metrics\n",
        "from torcheval.metrics.functional import multiclass_f1_score\n",
        "\n",
        "# device config (train our model on GPU if it is available which is much faster)\n",
        "device = torch.device('cuda' if torch.cuda.is_available() else 'cpu')\n",
        "device"
      ]
    },
    {
      "cell_type": "code",
      "execution_count": 3,
      "metadata": {
        "id": "GHajaotB22E2"
      },
      "outputs": [],
      "source": [
        "# Transform\n",
        "transform = transforms.Compose([transforms.ToTensor(), transforms.Normalize([0.5], [0.5])])\n",
        "\n",
        "# Load Fashion MNIST\n",
        "fashion_mnist_train = torchvision.datasets.FashionMNIST('', train=True, transform =transform, download=True)\n",
        "\n",
        "# Split dataset \n",
        "fashion_mnist_train, fashion_mnist_val = torch.utils.data.random_split(fashion_mnist_train, [int(np.floor(len(fashion_mnist_train)*0.75)), int(np.ceil(len(fashion_mnist_train)*0.25))])\n",
        "\n",
        "fashion_mnist_test = torchvision.datasets.FashionMNIST('', train=False, transform = transform, download=True)"
      ]
    },
    {
      "cell_type": "code",
      "execution_count": 4,
      "metadata": {
        "colab": {
          "base_uri": "https://localhost:8080/"
        },
        "id": "h5YwZ-eb23vK",
        "outputId": "352c1551-f9f1-4555-fbca-fef6e8ea1b27"
      },
      "outputs": [
        {
          "name": "stdout",
          "output_type": "stream",
          "text": [
            "dataset_sizes = {'train': 45000, 'val': 15000, 'test': 10000}\n"
          ]
        }
      ],
      "source": [
        "# Create dataloaders\n",
        "batch_size = 1000\n",
        "dataloaders = {'train': DataLoader(fashion_mnist_train, batch_size=batch_size),\n",
        "               'val': DataLoader(fashion_mnist_val, batch_size=batch_size),\n",
        "               'test': DataLoader(fashion_mnist_test, shuffle=True, batch_size=batch_size)}\n",
        "\n",
        "dataset_sizes = {'train': len(fashion_mnist_train),\n",
        "                 'val': len(fashion_mnist_val),\n",
        "                 'test': len(fashion_mnist_test)}\n",
        "print(f'dataset_sizes = {dataset_sizes}')"
      ]
    },
    {
      "cell_type": "code",
      "execution_count": 5,
      "metadata": {
        "id": "zPaxnQIstPRI"
      },
      "outputs": [],
      "source": [
        "# plot an image\n",
        "def view_fashionmnist(label, count = 1):\n",
        "    fig = plt.figure()\n",
        "    idx = 1\n",
        "    for inputs, labels in dataloaders[\"test\"]:\n",
        "        for i, input in enumerate(inputs):\n",
        "            # we only want to view a certain class\n",
        "            if (labels[i] != label):\n",
        "                continue\n",
        "            # plot the ground truth\n",
        "            ax = fig.add_subplot(1, count, idx)\n",
        "            input = input.cpu().detach().numpy().reshape((28,28))\n",
        "            ax.imshow(input, cmap='gray')\n",
        "            idx += 1\n",
        "            if idx > count:\n",
        "                break\n",
        "        if idx > count:\n",
        "            break"
      ]
    },
    {
      "cell_type": "code",
      "execution_count": 6,
      "metadata": {
        "colab": {
          "base_uri": "https://localhost:8080/",
          "height": 99
        },
        "id": "RZlW6xS3t5dJ",
        "outputId": "f05d5750-73a3-43aa-8b2c-0a3bb5d91c33"
      },
      "outputs": [
        {
          "data": {
            "image/png": "[encoded data removed]",
            "text/plain": [
              "<Figure size 432x288 with 6 Axes>"
            ]
          },
          "metadata": {
            "needs_background": "light"
          },
          "output_type": "display_data"
        }
      ],
      "source": [
        "# View 6 bags\n",
        "view_fashionmnist(8, 6)"
      ]
    },
    {
      "cell_type": "code",
      "execution_count": 18,
      "metadata": {
        "id": "m60YZ2vhZWUv"
      },
      "outputs": [],
      "source": [
        "from torch.nn.modules.flatten import Flatten\n",
        "class CNNClassifier(nn.Module):\n",
        "    def __init__(self):\n",
        "        super(CNNClassifier, self).__init__()\n",
        "\n",
        "        first_conv2d_stack  =  64\n",
        "        second_conv2d_stack = 128\n",
        "        third_conv2d_stack  = 256\n",
        "        fourth_conv2d_stack = 512\n",
        "        fifth_conv2d_stack  = 512\n",
        "        linear_stack = fifth_conv2d_stack*2*2\n",
        "\n",
        "        self.pipeline = nn.Sequential(\n",
        "            # First stack of convolutional layers\n",
        "            nn.Conv2d(in_channels = 1, out_channels = first_conv2d_stack, kernel_size = 3, stride = 1, padding = 1),\n",
        "            nn.BatchNorm2d(first_conv2d_stack),\n",
        "            nn.ReLU(),\n",
        "            nn.Conv2d(in_channels = first_conv2d_stack, out_channels = first_conv2d_stack, kernel_size = 3, stride = 1, padding = 1),\n",
        "            nn.BatchNorm2d(first_conv2d_stack),\n",
        "            nn.ReLU(),\n",
        "            nn.Conv2d(in_channels = first_conv2d_stack, out_channels = first_conv2d_stack, kernel_size = 3, stride = 1, padding = 1),\n",
        "            nn.BatchNorm2d(first_conv2d_stack),\n",
        "            nn.ReLU(),\n",
        "\n",
        "            # Second stack of convolutional layers\n",
        "            nn.MaxPool2d(kernel_size = 2, stride = 2), # 28x28 -> 14x14\n",
        "            nn.Conv2d(in_channels = first_conv2d_stack, out_channels = second_conv2d_stack, kernel_size = 3, stride = 1, padding = 1),\n",
        "            nn.BatchNorm2d(second_conv2d_stack),\n",
        "            nn.ReLU(),\n",
        "            nn.Conv2d(in_channels = second_conv2d_stack, out_channels = second_conv2d_stack, kernel_size = 3, stride = 1, padding = 1),\n",
        "            nn.BatchNorm2d(second_conv2d_stack),\n",
        "            nn.ReLU(),\n",
        "\n",
        "            # Third stack of convolutional layers            \n",
        "            nn.MaxPool2d(kernel_size = 2, stride = 2), # 14x14 -> 7x7\n",
        "            nn.Conv2d(in_channels = second_conv2d_stack, out_channels = third_conv2d_stack, kernel_size = 3, stride = 1, padding = 1),\n",
        "            nn.BatchNorm2d(third_conv2d_stack),\n",
        "            nn.ReLU(),\n",
        "            nn.Conv2d(in_channels = third_conv2d_stack, out_channels = third_conv2d_stack, kernel_size = 3, stride = 1, padding = 1),\n",
        "            nn.BatchNorm2d(third_conv2d_stack),\n",
        "            nn.ReLU(),\n",
        "\n",
        "            # Fourth stack of convolutional layers\n",
        "            nn.MaxPool2d(kernel_size = 2, stride = 2), # 7x7 -> 3x3\n",
        "            nn.Conv2d(in_channels = third_conv2d_stack, out_channels = fourth_conv2d_stack, kernel_size = 3, stride = 1, padding = 1),\n",
        "            nn.BatchNorm2d(fourth_conv2d_stack),\n",
        "            nn.ReLU(),\n",
        "            nn.Conv2d(in_channels = fourth_conv2d_stack, out_channels = fourth_conv2d_stack, kernel_size = 3, stride = 1, padding = 1),\n",
        "            nn.BatchNorm2d(fourth_conv2d_stack),\n",
        "            nn.ReLU(),\n",
        "\n",
        "            # Fifth stack of convolutional layers\n",
        "            nn.MaxPool2d(kernel_size = 2, stride = 1), # 3x3 -> 2x2\n",
        "            nn.Conv2d(in_channels = fourth_conv2d_stack, out_channels = fifth_conv2d_stack, kernel_size = 3, stride = 1, padding = 1),\n",
        "            nn.BatchNorm2d(fifth_conv2d_stack),\n",
        "            nn.ReLU(),\n",
        "            nn.Conv2d(in_channels = fifth_conv2d_stack, out_channels = fifth_conv2d_stack, kernel_size = 3, stride = 1, padding = 1),\n",
        "            nn.BatchNorm2d(fifth_conv2d_stack),\n",
        "            nn.ReLU(),\n",
        "\n",
        "            # Multilayer perceptron\n",
        "            nn.Flatten(),\n",
        "            nn.Dropout(p=dropout),\n",
        "            nn.BatchNorm1d(linear_stack),\n",
        "            nn.Linear(linear_stack, 10),\n",
        "        )\n",
        "        \n",
        "    def forward(self, x):\n",
        "        return self.pipeline(x)\n"
      ]
    },
    {
      "cell_type": "code",
      "execution_count": 21,
      "metadata": {
        "colab": {
          "base_uri": "https://localhost:8080/"
        },
        "id": "EaNST2-8Za8Q",
        "outputId": "483ba372-3f2a-4ce1-be5e-d6a79f344fbf"
      },
      "outputs": [
        {
          "name": "stdout",
          "output_type": "stream",
          "text": [
            "CNNClassifier(\n",
            "  (pipeline): Sequential(\n",
            "    (0): Conv2d(1, 64, kernel_size=(3, 3), stride=(1, 1), padding=(1, 1))\n",
            "    (1): BatchNorm2d(64, eps=1e-05, momentum=0.1, affine=True, track_running_stats=True)\n",
            "    (2): ReLU()\n",
            "    (3): Conv2d(64, 64, kernel_size=(3, 3), stride=(1, 1), padding=(1, 1))\n",
            "    (4): BatchNorm2d(64, eps=1e-05, momentum=0.1, affine=True, track_running_stats=True)\n",
            "    (5): ReLU()\n",
            "    (6): Conv2d(64, 64, kernel_size=(3, 3), stride=(1, 1), padding=(1, 1))\n",
            "    (7): BatchNorm2d(64, eps=1e-05, momentum=0.1, affine=True, track_running_stats=True)\n",
            "    (8): ReLU()\n",
            "    (9): MaxPool2d(kernel_size=2, stride=2, padding=0, dilation=1, ceil_mode=False)\n",
            "    (10): Conv2d(64, 128, kernel_size=(3, 3), stride=(1, 1), padding=(1, 1))\n",
            "    (11): BatchNorm2d(128, eps=1e-05, momentum=0.1, affine=True, track_running_stats=True)\n",
            "    (12): ReLU()\n",
            "    (13): Conv2d(128, 128, kernel_size=(3, 3), stride=(1, 1), padding=(1, 1))\n",
            "    (14): BatchNorm2d(128, eps=1e-05, momentum=0.1, affine=True, track_running_stats=True)\n",
            "    (15): ReLU()\n",
            "    (16): MaxPool2d(kernel_size=2, stride=2, padding=0, dilation=1, ceil_mode=False)\n",
            "    (17): Conv2d(128, 256, kernel_size=(3, 3), stride=(1, 1), padding=(1, 1))\n",
            "    (18): BatchNorm2d(256, eps=1e-05, momentum=0.1, affine=True, track_running_stats=True)\n",
            "    (19): ReLU()\n",
            "    (20): Conv2d(256, 256, kernel_size=(3, 3), stride=(1, 1), padding=(1, 1))\n",
            "    (21): BatchNorm2d(256, eps=1e-05, momentum=0.1, affine=True, track_running_stats=True)\n",
            "    (22): ReLU()\n",
            "    (23): MaxPool2d(kernel_size=2, stride=2, padding=0, dilation=1, ceil_mode=False)\n",
            "    (24): Conv2d(256, 512, kernel_size=(3, 3), stride=(1, 1), padding=(1, 1))\n",
            "    (25): BatchNorm2d(512, eps=1e-05, momentum=0.1, affine=True, track_running_stats=True)\n",
            "    (26): ReLU()\n",
            "    (27): Conv2d(512, 512, kernel_size=(3, 3), stride=(1, 1), padding=(1, 1))\n",
            "    (28): BatchNorm2d(512, eps=1e-05, momentum=0.1, affine=True, track_running_stats=True)\n",
            "    (29): ReLU()\n",
            "    (30): MaxPool2d(kernel_size=2, stride=1, padding=0, dilation=1, ceil_mode=False)\n",
            "    (31): Conv2d(512, 512, kernel_size=(3, 3), stride=(1, 1), padding=(1, 1))\n",
            "    (32): BatchNorm2d(512, eps=1e-05, momentum=0.1, affine=True, track_running_stats=True)\n",
            "    (33): ReLU()\n",
            "    (34): Conv2d(512, 512, kernel_size=(3, 3), stride=(1, 1), padding=(1, 1))\n",
            "    (35): BatchNorm2d(512, eps=1e-05, momentum=0.1, affine=True, track_running_stats=True)\n",
            "    (36): ReLU()\n",
            "    (37): Flatten(start_dim=1, end_dim=-1)\n",
            "    (38): Dropout(p=0.5, inplace=False)\n",
            "    (39): BatchNorm1d(2048, eps=1e-05, momentum=0.1, affine=True, track_running_stats=True)\n",
            "    (40): Linear(in_features=2048, out_features=10, bias=True)\n",
            "  )\n",
            ")\n"
          ]
        }
      ],
      "source": [
        "learning_rate = 0.001\n",
        "num_epochs = 50\n",
        "dropout = 0.50\n",
        "weight_decay = 0.001\n",
        "\n",
        "model = CNNClassifier().to(device)\n",
        "print(model)"
      ]
    },
    {
      "cell_type": "code",
      "execution_count": 10,
      "metadata": {
        "id": "Qcdx6xYSZdRv"
      },
      "outputs": [],
      "source": [
        "# From https://pytorch.org/tutorials/beginner/transfer_learning_tutorial.html\n",
        "\n",
        "def train_classification_model(model, dataloaders, dataset_sizes, criterion, optimizer, scheduler, num_epochs=25):\n",
        "    since = time.time()\n",
        "\n",
        "    best_model_wts = copy.deepcopy(model.state_dict()) # keep the best weights stored separately\n",
        "    best_acc = 0.0\n",
        "    best_epoch = 0\n",
        "    best_f1 = 0\n",
        "\n",
        "    # Each epoch has a training, validation, and test phase\n",
        "    phases = ['train', 'val', 'test']\n",
        "    \n",
        "    # Keep track of how loss and accuracy evolves during training\n",
        "    training_curves = {}\n",
        "    for phase in phases:\n",
        "        training_curves[phase+'_loss'] = []\n",
        "        training_curves[phase+'_acc'] = []\n",
        "        training_curves[phase+'_f1'] = []\n",
        "    \n",
        "    for epoch in range(num_epochs):\n",
        "        print(f'\\nEpoch {epoch+1}/{num_epochs}')\n",
        "        print('-' * 10)\n",
        "\n",
        "        for phase in phases:\n",
        "            if phase == 'train':\n",
        "                model.train()  # Set model to training mode\n",
        "            else:\n",
        "                model.eval()   # Set model to evaluate mode\n",
        "\n",
        "            running_loss = 0.0\n",
        "            running_corrects = 0\n",
        "            f1_scores = 0\n",
        "\n",
        "            # Iterate over data.\n",
        "            for inputs, labels in dataloaders[phase]:\n",
        "                # No need to flatten the inputs!\n",
        "                inputs = inputs.to(device)\n",
        "                labels = labels.to(device)\n",
        "\n",
        "                # zero the parameter gradients\n",
        "                optimizer.zero_grad()\n",
        "\n",
        "                # forward\n",
        "                with torch.set_grad_enabled(phase == 'train'):\n",
        "                    outputs = model(inputs)\n",
        "                    _, predictions = torch.max(outputs, 1)\n",
        "                    loss = criterion(outputs, labels)\n",
        "\n",
        "                    # backward + update weights only if in training phase\n",
        "                    if phase == 'train':\n",
        "                        loss.backward()\n",
        "                        optimizer.step()\n",
        "\n",
        "                # statistics\n",
        "                running_loss += loss.item() * inputs.size(0)\n",
        "                running_corrects += torch.sum(predictions == labels.data)\n",
        "                f1_scores += torch.sum(multiclass_f1_score(predictions, labels.data, num_classes=10, average='macro'))\n",
        " \n",
        "            if phase == 'train':\n",
        "                scheduler.step()\n",
        "\n",
        "            epoch_loss = running_loss / dataset_sizes[phase]\n",
        "            epoch_acc = running_corrects.double() / dataset_sizes[phase]\n",
        "            epoch_f1 = f1_scores / (dataset_sizes[phase] / batch_size)\n",
        "            training_curves[phase+'_loss'].append(epoch_loss)\n",
        "            training_curves[phase+'_acc'].append(epoch_acc)       \n",
        "            training_curves[phase+'_f1'].append(epoch_f1)\n",
        "\n",
        "            print(f'{phase:5} Loss: {epoch_loss:.4f} Acc: {epoch_acc:.4f} F1: {epoch_f1:.4f}')\n",
        "\n",
        "            # deep copy the model if it's the best accuracy (bas\n",
        "            if phase == 'val' and epoch_acc > best_acc:\n",
        "              best_epoch = epoch\n",
        "              best_acc = epoch_acc\n",
        "              best_model_wts = copy.deepcopy(model.state_dict())\n",
        "              best_f1 = epoch_f1\n",
        "\n",
        "    time_elapsed = time.time() - since\n",
        "    print(f'\\nTraining complete in {time_elapsed // 60:.0f}m {time_elapsed % 60:.0f}s')\n",
        "    print(f'Best val Acc: {best_acc:4f} at epoch {best_epoch} with F1-score: {best_f1}')\n",
        "\n",
        "    # load best model weights\n",
        "    model.load_state_dict(best_model_wts)\n",
        "    \n",
        "    return model, training_curves\n",
        "\n"
      ]
    },
    {
      "cell_type": "code",
      "execution_count": 22,
      "metadata": {
        "colab": {
          "base_uri": "https://localhost:8080/"
        },
        "id": "sY8P8BWLZffG",
        "outputId": "32961651-66ff-4e61-d861-f5fd36dc81b5"
      },
      "outputs": [
        {
          "name": "stdout",
          "output_type": "stream",
          "text": [
            "\n",
            "Epoch 1/50\n",
            "----------\n",
            "train Loss: 0.6458 Acc: 0.7615 F1: 0.7543\n",
            "val   Loss: 0.4734 Acc: 0.8271 F1: 0.8111\n",
            "test  Loss: 0.4844 Acc: 0.8283 F1: 0.8117\n",
            "\n",
            "Epoch 2/50\n",
            "----------\n",
            "train Loss: 0.3126 Acc: 0.8859 F1: 0.8849\n",
            "val   Loss: 0.3509 Acc: 0.8745 F1: 0.8719\n",
            "test  Loss: 0.3694 Acc: 0.8693 F1: 0.8663\n",
            "\n",
            "Epoch 3/50\n",
            "----------\n",
            "train Loss: 0.2494 Acc: 0.9110 F1: 0.9105\n",
            "val   Loss: 0.3249 Acc: 0.8851 F1: 0.8834\n",
            "test  Loss: 0.3524 Acc: 0.8807 F1: 0.8784\n",
            "\n",
            "Epoch 4/50\n",
            "----------\n",
            "train Loss: 0.2088 Acc: 0.9249 F1: 0.9246\n",
            "val   Loss: 0.3516 Acc: 0.8772 F1: 0.8711\n",
            "test  Loss: 0.3688 Acc: 0.8733 F1: 0.8662\n",
            "\n",
            "Epoch 5/50\n",
            "----------\n",
            "train Loss: 0.1819 Acc: 0.9342 F1: 0.9339\n",
            "val   Loss: 0.2827 Acc: 0.9031 F1: 0.9031\n",
            "test  Loss: 0.3030 Acc: 0.8946 F1: 0.8947\n",
            "\n",
            "Epoch 6/50\n",
            "----------\n",
            "train Loss: 0.1650 Acc: 0.9413 F1: 0.9411\n",
            "val   Loss: 0.3151 Acc: 0.8935 F1: 0.8931\n",
            "test  Loss: 0.3364 Acc: 0.8852 F1: 0.8849\n",
            "\n",
            "Epoch 7/50\n",
            "----------\n",
            "train Loss: 0.1515 Acc: 0.9453 F1: 0.9450\n",
            "val   Loss: 0.2672 Acc: 0.9103 F1: 0.9098\n",
            "test  Loss: 0.2823 Acc: 0.9063 F1: 0.9069\n",
            "\n",
            "Epoch 8/50\n",
            "----------\n",
            "train Loss: 0.1311 Acc: 0.9536 F1: 0.9534\n",
            "val   Loss: 0.2862 Acc: 0.9047 F1: 0.9013\n",
            "test  Loss: 0.3039 Acc: 0.9006 F1: 0.8976\n",
            "\n",
            "Epoch 9/50\n",
            "----------\n",
            "train Loss: 0.1106 Acc: 0.9605 F1: 0.9604\n",
            "val   Loss: 0.3304 Acc: 0.8946 F1: 0.8911\n",
            "test  Loss: 0.3455 Acc: 0.8901 F1: 0.8862\n",
            "\n",
            "Epoch 10/50\n",
            "----------\n",
            "train Loss: 0.1063 Acc: 0.9626 F1: 0.9624\n",
            "val   Loss: 0.3513 Acc: 0.8941 F1: 0.8943\n",
            "test  Loss: 0.3683 Acc: 0.8923 F1: 0.8926\n",
            "\n",
            "Epoch 11/50\n",
            "----------\n",
            "train Loss: 0.0910 Acc: 0.9681 F1: 0.9681\n",
            "val   Loss: 0.2821 Acc: 0.9129 F1: 0.9131\n",
            "test  Loss: 0.2911 Acc: 0.9116 F1: 0.9120\n",
            "\n",
            "Epoch 12/50\n",
            "----------\n",
            "train Loss: 0.0778 Acc: 0.9736 F1: 0.9734\n",
            "val   Loss: 0.2887 Acc: 0.9125 F1: 0.9095\n",
            "test  Loss: 0.2975 Acc: 0.9099 F1: 0.9063\n",
            "\n",
            "Epoch 13/50\n",
            "----------\n",
            "train Loss: 0.0683 Acc: 0.9764 F1: 0.9763\n",
            "val   Loss: 0.3097 Acc: 0.9141 F1: 0.9133\n",
            "test  Loss: 0.3111 Acc: 0.9119 F1: 0.9115\n",
            "\n",
            "Epoch 14/50\n",
            "----------\n",
            "train Loss: 0.0613 Acc: 0.9788 F1: 0.9788\n",
            "val   Loss: 0.3779 Acc: 0.8961 F1: 0.8957\n",
            "test  Loss: 0.3873 Acc: 0.8932 F1: 0.8942\n",
            "\n",
            "Epoch 15/50\n",
            "----------\n",
            "train Loss: 0.0494 Acc: 0.9828 F1: 0.9828\n",
            "val   Loss: 0.4961 Acc: 0.8683 F1: 0.8656\n",
            "test  Loss: 0.5070 Acc: 0.8647 F1: 0.8638\n",
            "\n",
            "Epoch 16/50\n",
            "----------\n",
            "train Loss: 0.0437 Acc: 0.9856 F1: 0.9855\n",
            "val   Loss: 0.3178 Acc: 0.9185 F1: 0.9173\n",
            "test  Loss: 0.3314 Acc: 0.9150 F1: 0.9140\n",
            "\n",
            "Epoch 17/50\n",
            "----------\n",
            "train Loss: 0.0310 Acc: 0.9895 F1: 0.9895\n",
            "val   Loss: 0.3900 Acc: 0.8987 F1: 0.8985\n",
            "test  Loss: 0.4116 Acc: 0.8978 F1: 0.8981\n",
            "\n",
            "Epoch 18/50\n",
            "----------\n",
            "train Loss: 0.0273 Acc: 0.9909 F1: 0.9909\n",
            "val   Loss: 0.3074 Acc: 0.9229 F1: 0.9226\n",
            "test  Loss: 0.3391 Acc: 0.9196 F1: 0.9198\n",
            "\n",
            "Epoch 19/50\n",
            "----------\n",
            "train Loss: 0.0268 Acc: 0.9908 F1: 0.9908\n",
            "val   Loss: 0.3011 Acc: 0.9209 F1: 0.9199\n",
            "test  Loss: 0.3332 Acc: 0.9132 F1: 0.9123\n",
            "\n",
            "Epoch 20/50\n",
            "----------\n",
            "train Loss: 0.0213 Acc: 0.9930 F1: 0.9931\n",
            "val   Loss: 0.3054 Acc: 0.9266 F1: 0.9252\n",
            "test  Loss: 0.3292 Acc: 0.9232 F1: 0.9223\n",
            "\n",
            "Epoch 21/50\n",
            "----------\n",
            "train Loss: 0.0172 Acc: 0.9947 F1: 0.9946\n",
            "val   Loss: 0.2954 Acc: 0.9278 F1: 0.9267\n",
            "test  Loss: 0.3175 Acc: 0.9209 F1: 0.9195\n",
            "\n",
            "Epoch 22/50\n",
            "----------\n",
            "train Loss: 0.0141 Acc: 0.9950 F1: 0.9950\n",
            "val   Loss: 0.3145 Acc: 0.9252 F1: 0.9250\n",
            "test  Loss: 0.3333 Acc: 0.9252 F1: 0.9256\n",
            "\n",
            "Epoch 23/50\n",
            "----------\n",
            "train Loss: 0.0107 Acc: 0.9968 F1: 0.9968\n",
            "val   Loss: 0.3308 Acc: 0.9229 F1: 0.9219\n",
            "test  Loss: 0.3575 Acc: 0.9156 F1: 0.9149\n",
            "\n",
            "Epoch 24/50\n",
            "----------\n",
            "train Loss: 0.0079 Acc: 0.9978 F1: 0.9978\n",
            "val   Loss: 0.3113 Acc: 0.9282 F1: 0.9281\n",
            "test  Loss: 0.3429 Acc: 0.9226 F1: 0.9230\n",
            "\n",
            "Epoch 25/50\n",
            "----------\n",
            "train Loss: 0.0084 Acc: 0.9976 F1: 0.9976\n",
            "val   Loss: 0.3165 Acc: 0.9267 F1: 0.9257\n",
            "test  Loss: 0.3486 Acc: 0.9237 F1: 0.9234\n",
            "\n",
            "Epoch 26/50\n",
            "----------\n",
            "train Loss: 0.0061 Acc: 0.9985 F1: 0.9984\n",
            "val   Loss: 0.2999 Acc: 0.9298 F1: 0.9289\n",
            "test  Loss: 0.3348 Acc: 0.9253 F1: 0.9248\n",
            "\n",
            "Epoch 27/50\n",
            "----------\n",
            "train Loss: 0.0048 Acc: 0.9986 F1: 0.9986\n",
            "val   Loss: 0.3319 Acc: 0.9229 F1: 0.9227\n",
            "test  Loss: 0.3663 Acc: 0.9180 F1: 0.9184\n",
            "\n",
            "Epoch 28/50\n",
            "----------\n",
            "train Loss: 0.0059 Acc: 0.9985 F1: 0.9985\n",
            "val   Loss: 0.3324 Acc: 0.9261 F1: 0.9256\n",
            "test  Loss: 0.3746 Acc: 0.9202 F1: 0.9199\n",
            "\n",
            "Epoch 29/50\n",
            "----------\n",
            "train Loss: 0.0052 Acc: 0.9987 F1: 0.9987\n",
            "val   Loss: 0.3148 Acc: 0.9283 F1: 0.9265\n",
            "test  Loss: 0.3422 Acc: 0.9256 F1: 0.9235\n",
            "\n",
            "Epoch 30/50\n",
            "----------\n",
            "train Loss: 0.0051 Acc: 0.9986 F1: 0.9986\n",
            "val   Loss: 0.3001 Acc: 0.9324 F1: 0.9310\n",
            "test  Loss: 0.3325 Acc: 0.9281 F1: 0.9271\n",
            "\n",
            "Epoch 31/50\n",
            "----------\n",
            "train Loss: 0.0035 Acc: 0.9993 F1: 0.9993\n",
            "val   Loss: 0.2881 Acc: 0.9360 F1: 0.9352\n",
            "test  Loss: 0.3298 Acc: 0.9287 F1: 0.9284\n",
            "\n",
            "Epoch 32/50\n",
            "----------\n",
            "train Loss: 0.0019 Acc: 0.9997 F1: 0.9997\n",
            "val   Loss: 0.3026 Acc: 0.9349 F1: 0.9338\n",
            "test  Loss: 0.3442 Acc: 0.9302 F1: 0.9291\n",
            "\n",
            "Epoch 33/50\n",
            "----------\n",
            "train Loss: 0.0021 Acc: 0.9996 F1: 0.9996\n",
            "val   Loss: 0.2919 Acc: 0.9375 F1: 0.9368\n",
            "test  Loss: 0.3272 Acc: 0.9317 F1: 0.9314\n",
            "\n",
            "Epoch 34/50\n",
            "----------\n",
            "train Loss: 0.0018 Acc: 0.9998 F1: 0.9998\n",
            "val   Loss: 0.2882 Acc: 0.9379 F1: 0.9372\n",
            "test  Loss: 0.3312 Acc: 0.9304 F1: 0.9304\n",
            "\n",
            "Epoch 35/50\n",
            "----------\n",
            "train Loss: 0.0012 Acc: 0.9999 F1: 0.9999\n",
            "val   Loss: 0.2950 Acc: 0.9387 F1: 0.9379\n",
            "test  Loss: 0.3342 Acc: 0.9310 F1: 0.9304\n",
            "\n",
            "Epoch 36/50\n",
            "----------\n",
            "train Loss: 0.0010 Acc: 1.0000 F1: 1.0000\n",
            "val   Loss: 0.2952 Acc: 0.9392 F1: 0.9387\n",
            "test  Loss: 0.3368 Acc: 0.9327 F1: 0.9323\n",
            "\n",
            "Epoch 37/50\n",
            "----------\n",
            "train Loss: 0.0010 Acc: 1.0000 F1: 1.0000\n",
            "val   Loss: 0.2933 Acc: 0.9400 F1: 0.9394\n",
            "test  Loss: 0.3347 Acc: 0.9331 F1: 0.9328\n",
            "\n",
            "Epoch 38/50\n",
            "----------\n",
            "train Loss: 0.0011 Acc: 1.0000 F1: 1.0000\n",
            "val   Loss: 0.2932 Acc: 0.9397 F1: 0.9391\n",
            "test  Loss: 0.3347 Acc: 0.9329 F1: 0.9329\n",
            "\n",
            "Epoch 39/50\n",
            "----------\n",
            "train Loss: 0.0011 Acc: 1.0000 F1: 1.0000\n",
            "val   Loss: 0.2928 Acc: 0.9401 F1: 0.9395\n",
            "test  Loss: 0.3342 Acc: 0.9330 F1: 0.9328\n",
            "\n",
            "Epoch 40/50\n",
            "----------\n",
            "train Loss: 0.0012 Acc: 1.0000 F1: 1.0000\n",
            "val   Loss: 0.2919 Acc: 0.9399 F1: 0.9393\n",
            "test  Loss: 0.3335 Acc: 0.9326 F1: 0.9323\n",
            "\n",
            "Epoch 41/50\n",
            "----------\n",
            "train Loss: 0.0013 Acc: 1.0000 F1: 1.0000\n",
            "val   Loss: 0.2929 Acc: 0.9397 F1: 0.9391\n",
            "test  Loss: 0.3350 Acc: 0.9322 F1: 0.9319\n",
            "\n",
            "Epoch 42/50\n",
            "----------\n",
            "train Loss: 0.0013 Acc: 1.0000 F1: 1.0000\n",
            "val   Loss: 0.2924 Acc: 0.9397 F1: 0.9391\n",
            "test  Loss: 0.3347 Acc: 0.9322 F1: 0.9322\n",
            "\n",
            "Epoch 43/50\n",
            "----------\n",
            "train Loss: 0.0013 Acc: 1.0000 F1: 1.0000\n",
            "val   Loss: 0.2939 Acc: 0.9404 F1: 0.9398\n",
            "test  Loss: 0.3370 Acc: 0.9320 F1: 0.9314\n",
            "\n",
            "Epoch 44/50\n",
            "----------\n",
            "train Loss: 0.0014 Acc: 1.0000 F1: 1.0000\n",
            "val   Loss: 0.2948 Acc: 0.9402 F1: 0.9396\n",
            "test  Loss: 0.3384 Acc: 0.9324 F1: 0.9323\n",
            "\n",
            "Epoch 45/50\n",
            "----------\n",
            "train Loss: 0.0014 Acc: 1.0000 F1: 1.0000\n",
            "val   Loss: 0.2950 Acc: 0.9403 F1: 0.9397\n",
            "test  Loss: 0.3387 Acc: 0.9323 F1: 0.9321\n",
            "\n",
            "Epoch 46/50\n",
            "----------\n",
            "train Loss: 0.0015 Acc: 1.0000 F1: 1.0000\n",
            "val   Loss: 0.2959 Acc: 0.9402 F1: 0.9396\n",
            "test  Loss: 0.3402 Acc: 0.9327 F1: 0.9323\n",
            "\n",
            "Epoch 47/50\n",
            "----------\n",
            "train Loss: 0.0015 Acc: 1.0000 F1: 1.0000\n",
            "val   Loss: 0.2965 Acc: 0.9405 F1: 0.9398\n",
            "test  Loss: 0.3410 Acc: 0.9326 F1: 0.9323\n",
            "\n",
            "Epoch 48/50\n",
            "----------\n",
            "train Loss: 0.0015 Acc: 1.0000 F1: 1.0000\n",
            "val   Loss: 0.2966 Acc: 0.9406 F1: 0.9400\n",
            "test  Loss: 0.3413 Acc: 0.9324 F1: 0.9322\n",
            "\n",
            "Epoch 49/50\n",
            "----------\n",
            "train Loss: 0.0016 Acc: 1.0000 F1: 1.0000\n",
            "val   Loss: 0.2968 Acc: 0.9404 F1: 0.9398\n",
            "test  Loss: 0.3414 Acc: 0.9325 F1: 0.9322\n",
            "\n",
            "Epoch 50/50\n",
            "----------\n",
            "train Loss: 0.0016 Acc: 1.0000 F1: 1.0000\n",
            "val   Loss: 0.2985 Acc: 0.9404 F1: 0.9398\n",
            "test  Loss: 0.3433 Acc: 0.9324 F1: 0.9319\n",
            "\n",
            "Training complete in 14m 42s\n",
            "Best val Acc: 0.940600 at epoch 47 with F1-score: 0.9399711489677429\n"
          ]
        }
      ],
      "source": [
        "# loss and optimizer\n",
        "criterion = nn.CrossEntropyLoss() # CrossEntropyLoss for classification!\n",
        "optimizer = torch.optim.Adam(model.parameters(), lr=learning_rate, weight_decay=weight_decay)\n",
        "scheduler = torch.optim.lr_scheduler.ExponentialLR(optimizer, gamma=0.95)\n",
        "\n",
        "# Train the model. We also will store the results of training to visualize\n",
        "model, training_curves = train_classification_model(model, dataloaders, dataset_sizes, \n",
        "                                     criterion, optimizer, scheduler, num_epochs=num_epochs)"
      ]
    },
    {
      "cell_type": "code",
      "execution_count": 23,
      "metadata": {
        "id": "9b59UokDiBuM"
      },
      "outputs": [],
      "source": [
        "torch.save(model.state_dict(), 'fashionMNIST_model')"
      ]
    },
    {
      "cell_type": "code",
      "execution_count": 24,
      "metadata": {
        "colab": {
          "base_uri": "https://localhost:8080/"
        },
        "id": "vSbyadc5iTYx",
        "outputId": "296c0f55-c5a8-462d-cf07-b02e00063645"
      },
      "outputs": [
        {
          "data": {
            "text/plain": [
              "CNNClassifier(\n",
              "  (pipeline): Sequential(\n",
              "    (0): Conv2d(1, 64, kernel_size=(3, 3), stride=(1, 1), padding=(1, 1))\n",
              "    (1): BatchNorm2d(64, eps=1e-05, momentum=0.1, affine=True, track_running_stats=True)\n",
              "    (2): ReLU()\n",
              "    (3): Conv2d(64, 64, kernel_size=(3, 3), stride=(1, 1), padding=(1, 1))\n",
              "    (4): BatchNorm2d(64, eps=1e-05, momentum=0.1, affine=True, track_running_stats=True)\n",
              "    (5): ReLU()\n",
              "    (6): Conv2d(64, 64, kernel_size=(3, 3), stride=(1, 1), padding=(1, 1))\n",
              "    (7): BatchNorm2d(64, eps=1e-05, momentum=0.1, affine=True, track_running_stats=True)\n",
              "    (8): ReLU()\n",
              "    (9): MaxPool2d(kernel_size=2, stride=2, padding=0, dilation=1, ceil_mode=False)\n",
              "    (10): Conv2d(64, 128, kernel_size=(3, 3), stride=(1, 1), padding=(1, 1))\n",
              "    (11): BatchNorm2d(128, eps=1e-05, momentum=0.1, affine=True, track_running_stats=True)\n",
              "    (12): ReLU()\n",
              "    (13): Conv2d(128, 128, kernel_size=(3, 3), stride=(1, 1), padding=(1, 1))\n",
              "    (14): BatchNorm2d(128, eps=1e-05, momentum=0.1, affine=True, track_running_stats=True)\n",
              "    (15): ReLU()\n",
              "    (16): MaxPool2d(kernel_size=2, stride=2, padding=0, dilation=1, ceil_mode=False)\n",
              "    (17): Conv2d(128, 256, kernel_size=(3, 3), stride=(1, 1), padding=(1, 1))\n",
              "    (18): BatchNorm2d(256, eps=1e-05, momentum=0.1, affine=True, track_running_stats=True)\n",
              "    (19): ReLU()\n",
              "    (20): Conv2d(256, 256, kernel_size=(3, 3), stride=(1, 1), padding=(1, 1))\n",
              "    (21): BatchNorm2d(256, eps=1e-05, momentum=0.1, affine=True, track_running_stats=True)\n",
              "    (22): ReLU()\n",
              "    (23): MaxPool2d(kernel_size=2, stride=2, padding=0, dilation=1, ceil_mode=False)\n",
              "    (24): Conv2d(256, 512, kernel_size=(3, 3), stride=(1, 1), padding=(1, 1))\n",
              "    (25): BatchNorm2d(512, eps=1e-05, momentum=0.1, affine=True, track_running_stats=True)\n",
              "    (26): ReLU()\n",
              "    (27): Conv2d(512, 512, kernel_size=(3, 3), stride=(1, 1), padding=(1, 1))\n",
              "    (28): BatchNorm2d(512, eps=1e-05, momentum=0.1, affine=True, track_running_stats=True)\n",
              "    (29): ReLU()\n",
              "    (30): MaxPool2d(kernel_size=2, stride=1, padding=0, dilation=1, ceil_mode=False)\n",
              "    (31): Conv2d(512, 512, kernel_size=(3, 3), stride=(1, 1), padding=(1, 1))\n",
              "    (32): BatchNorm2d(512, eps=1e-05, momentum=0.1, affine=True, track_running_stats=True)\n",
              "    (33): ReLU()\n",
              "    (34): Conv2d(512, 512, kernel_size=(3, 3), stride=(1, 1), padding=(1, 1))\n",
              "    (35): BatchNorm2d(512, eps=1e-05, momentum=0.1, affine=True, track_running_stats=True)\n",
              "    (36): ReLU()\n",
              "    (37): Flatten(start_dim=1, end_dim=-1)\n",
              "    (38): Dropout(p=0.5, inplace=False)\n",
              "    (39): BatchNorm1d(2048, eps=1e-05, momentum=0.1, affine=True, track_running_stats=True)\n",
              "    (40): Linear(in_features=2048, out_features=10, bias=True)\n",
              "  )\n",
              ")"
            ]
          },
          "execution_count": 24,
          "metadata": {},
          "output_type": "execute_result"
        }
      ],
      "source": [
        "model = CNNClassifier()\n",
        "model.load_state_dict(torch.load('fashionMNIST_model'))\n",
        "model = model.to(device)\n",
        "model.eval()\n",
        "\n"
      ]
    },
    {
      "cell_type": "code",
      "execution_count": 12,
      "metadata": {
        "id": "bFiFvHou4dOI"
      },
      "outputs": [],
      "source": [
        "# Plotting results\n",
        "def plot_training_curves(training_curves, \n",
        "                         phases=['train', 'val', 'test'],\n",
        "                         metrics=['loss','acc', 'f1']):\n",
        "    epochs = list(range(len(training_curves['train_loss'])))\n",
        "    for metric in metrics:\n",
        "        plt.figure()\n",
        "        plt.title(f'Training curves - {metric}')\n",
        "        for phase in phases:\n",
        "            key = phase+'_'+metric\n",
        "            if key in training_curves:\n",
        "                if metric == 'acc' or metric == 'f1':\n",
        "                    plt.plot(epochs, [item.detach().cpu() for item in training_curves[key]])\n",
        "                else:\n",
        "                    plt.plot(epochs, training_curves[key])\n",
        "        plt.xlabel('epoch')\n",
        "        plt.legend(labels=phases)\n",
        "\n",
        "def classify_predictions(model, device, dataloader):\n",
        "    model.eval()   # Set model to evaluate mode\n",
        "    all_labels = torch.tensor([]).to(device)\n",
        "    all_scores = torch.tensor([]).to(device)\n",
        "    all_preds = torch.tensor([]).to(device)\n",
        "    for inputs, labels in dataloader:\n",
        "        inputs = inputs.to(device)\n",
        "        labels = labels.to(device)\n",
        "        outputs = torch.softmax(model(inputs),dim=1)\n",
        "        _, preds = torch.max(outputs, 1)\n",
        "        scores = outputs[:,1]\n",
        "        all_labels = torch.cat((all_labels, labels), 0)\n",
        "        all_scores = torch.cat((all_scores, scores), 0)\n",
        "        all_preds = torch.cat((all_preds, preds), 0)\n",
        "    return all_preds.detach().cpu(), all_labels.detach().cpu(), all_scores.detach().cpu()\n",
        "\n",
        "def plot_cm(model, device, dataloaders, phase='test'):\n",
        "    class_labels = [0, 1, 2, 3, 4, 5, 6, 7, 8, 9]\n",
        "    preds, labels, scores = classify_predictions(model, device, dataloaders[phase])\n",
        "    \n",
        "    cm = metrics.confusion_matrix(labels, preds)\n",
        "    disp = metrics.ConfusionMatrixDisplay(confusion_matrix=cm, display_labels=class_labels)\n",
        "    ax = disp.plot().ax_\n",
        "    ax.set_title('Confusion Matrix -- counts')\n"
      ]
    },
    {
      "cell_type": "code",
      "execution_count": 13,
      "metadata": {
        "colab": {
          "base_uri": "https://localhost:8080/",
          "height": 851
        },
        "id": "3MQF3p-74fQP",
        "outputId": "04fe8906-9cd4-494e-9eab-751556215897"
      },
      "outputs": [
        {
          "data": {
            "image/png": "[encoded data removed]",
            "text/plain": [
              "<Figure size 432x288 with 1 Axes>"
            ]
          },
          "metadata": {
            "needs_background": "light"
          },
          "output_type": "display_data"
        },
        {
          "data": {
            "image/png": "[encoded data removed]",
            "text/plain": [
              "<Figure size 432x288 with 1 Axes>"
            ]
          },
          "metadata": {
            "needs_background": "light"
          },
          "output_type": "display_data"
        },
        {
          "data": {
            "image/png": "[encoded data removed]",
            "text/plain": [
              "<Figure size 432x288 with 1 Axes>"
            ]
          },
          "metadata": {
            "needs_background": "light"
          },
          "output_type": "display_data"
        }
      ],
      "source": [
        "plot_training_curves(training_curves, phases=['train', 'val', 'test'])"
      ]
    },
    {
      "cell_type": "code",
      "execution_count": 14,
      "metadata": {
        "colab": {
          "base_uri": "https://localhost:8080/",
          "height": 295
        },
        "id": "OwqcGBhv4f0C",
        "outputId": "057c6657-5dd5-4846-821f-95f8a5f2c970"
      },
      "outputs": [
        {
          "data": {
            "image/png": "[encoded data removed]",
            "text/plain": [
              "<Figure size 432x288 with 2 Axes>"
            ]
          },
          "metadata": {
            "needs_background": "light"
          },
          "output_type": "display_data"
        }
      ],
      "source": [
        "res = plot_cm(model, device, dataloaders, phase='test')"
      ]
    },
    {
      "cell_type": "markdown",
      "metadata": {
        "id": "szKinnPAjTV-"
      },
      "source": [
        "* 0 - T-shirt/top\n",
        "* 1 - Trouser\n",
        "* 2 - Pullover\n",
        "* 3 - Dress\n",
        "* 4 - Coat\n",
        "* 5 - Sandal\n",
        "* 6 - Shirt\n",
        "* 7 - Sneaker\n",
        "* 8 - Bag\n",
        "* 9 - Ankle boot"
      ]
    }
  ],
  "metadata": {
    "accelerator": "GPU",
    "colab": {
      "provenance": []
    },
    "gpuClass": "premium",
    "kernelspec": {
      "display_name": "Python 3",
      "name": "python3"
    },
    "language_info": {
      "name": "python"
    }
  },
  "nbformat": 4,
  "nbformat_minor": 0
}
